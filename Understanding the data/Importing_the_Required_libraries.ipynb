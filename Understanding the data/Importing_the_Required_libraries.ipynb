{
  "nbformat": 4,
  "nbformat_minor": 0,
  "metadata": {
    "colab": {
      "provenance": []
    },
    "kernelspec": {
      "name": "python3",
      "display_name": "Python 3"
    },
    "language_info": {
      "name": "python"
    },
    "accelerator": "GPU",
    "gpuClass": "standard"
  },
  "cells": [
    {
      "cell_type": "markdown",
      "source": [
        "# **Importing the Required Libraries**"
      ],
      "metadata": {
        "id": "YpP7gHEveYYz"
      }
    },
    {
      "cell_type": "code",
      "source": [
        "import numpy as np\n",
        "import tensorflow\n",
        "from tensorflow.keras.datasets import mnist \n",
        "from tensorflow.keras.models import Sequential \n",
        "from tensorflow.keras import layers \n",
        "from tensorflow.keras.layers import Dense, Flatten \n",
        "from tensorflow.keras.layers import Conv2D \n",
        "from keras.optimizers import Adam \n",
        "from keras. utils import np_utils \n",
        "import matplotlib.pyplot as plt "
      ],
      "metadata": {
        "id": "kKHUuk16eXQL"
      },
      "execution_count": 9,
      "outputs": []
    }
  ]
}